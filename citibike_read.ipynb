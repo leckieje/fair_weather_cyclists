{
 "cells": [
  {
   "cell_type": "code",
   "execution_count": 21,
   "id": "blessed-introduction",
   "metadata": {},
   "outputs": [],
   "source": [
    "import pandas as pd\n",
    "\n",
    "# Web scraping libraries\n",
    "import requests\n",
    "import urllib.request\n",
    "from bs4 import BeautifulSoup\n",
    "\n",
    "# Downloading, moving and unzipping files\n",
    "import webbrowser # view web-based documents\n",
    "from time import sleep\n",
    "import shutil # file operations (moving, copying, etc)\n",
    "import os # operating system interface\n",
    "from zipfile import ZipFile # zipfile operations, ZipFile=class for reading and writing ZIP files"
   ]
  },
  {
   "cell_type": "markdown",
   "id": "round-fitting",
   "metadata": {},
   "source": [
    "Connect to url:"
   ]
  },
  {
   "cell_type": "code",
   "execution_count": 10,
   "id": "minute-cookie",
   "metadata": {},
   "outputs": [
    {
     "data": {
      "text/plain": [
       "<Response [200]>"
      ]
     },
     "execution_count": 10,
     "metadata": {},
     "output_type": "execute_result"
    }
   ],
   "source": [
    "url = 'https://s3.amazonaws.com/tripdata/'\n",
    "response = requests.get(url)\n",
    "response"
   ]
  },
  {
   "cell_type": "markdown",
   "id": "coupled-headline",
   "metadata": {},
   "source": [
    "Create soup variable, and parse for appropriate tag ('Key'):"
   ]
  },
  {
   "cell_type": "code",
   "execution_count": 18,
   "id": "danish-marks",
   "metadata": {},
   "outputs": [],
   "source": [
    "soup = BeautifulSoup(response.text, 'xml')"
   ]
  },
  {
   "cell_type": "code",
   "execution_count": 22,
   "id": "norman-plane",
   "metadata": {},
   "outputs": [
    {
     "data": {
      "text/plain": [
       "[<Key>JC-202010-citibike-tripdata.csv.zip</Key>,\n",
       " <Key>JC-202011-citibike-tripdata.csv.zip</Key>,\n",
       " <Key>JC-202012-citibike-tripdata.csv.zip</Key>,\n",
       " <Key>JC-202101-citibike-tripdata.csv.zip</Key>,\n",
       " <Key>index.html</Key>]"
      ]
     },
     "execution_count": 22,
     "metadata": {},
     "output_type": "execute_result"
    }
   ],
   "source": [
    "data_files = soup.find_all('Key')\n",
    "data_files[-5:]"
   ]
  },
  {
   "cell_type": "markdown",
   "id": "shared-employer",
   "metadata": {},
   "source": [
    "Storre zip files as strings in a list. Only saving files for NYC. Data set also incldudes files for Jersey City denoted with a leading 'JC' in the file name. "
   ]
  },
  {
   "cell_type": "code",
   "execution_count": 32,
   "id": "statutory-demand",
   "metadata": {},
   "outputs": [
    {
     "data": {
      "text/plain": [
       "93"
      ]
     },
     "execution_count": 32,
     "metadata": {},
     "output_type": "execute_result"
    }
   ],
   "source": [
    "nyc_zips = []\n",
    "\n",
    "for idx in range(len(data_files)-1):\n",
    "    file = data_files[idx].get_text()\n",
    "    if not file.startswith('JC'):\n",
    "        nyc_zips.append(file)\n",
    "        \n",
    "len(nyc_zips)"
   ]
  },
  {
   "cell_type": "markdown",
   "id": "anticipated-lottery",
   "metadata": {},
   "source": [
    "Download and relocate files to project directory"
   ]
  },
  {
   "cell_type": "code",
   "execution_count": 33,
   "id": "genuine-harvard",
   "metadata": {},
   "outputs": [],
   "source": [
    "source = '/Users/jonleckie/Downloads'\n",
    "destination = '/Users/jonleckie/Desktop/DSI_all/capstones/capstone_one'\n",
    "\n",
    "# Download zip files \n",
    "for file in nyc_zips:\n",
    "    webbrowser.open_new(url + file)\n",
    "    sleep(7)"
   ]
  },
  {
   "cell_type": "code",
   "execution_count": 34,
   "id": "transsexual-problem",
   "metadata": {},
   "outputs": [
    {
     "data": {
      "text/plain": [
       "['201906-citibike-tripdata.csv.zip',\n",
       " '201907-citibike-tripdata.csv.zip',\n",
       " '201908-citibike-tripdata.csv.zip',\n",
       " '201909-citibike-tripdata.csv.zip',\n",
       " '201910-citibike-tripdata.csv.zip',\n",
       " '201911-citibike-tripdata.csv.zip',\n",
       " '201912-citibike-tripdata.csv.zip',\n",
       " '202001-citibike-tripdata.csv.zip',\n",
       " '202002-citibike-tripdata.csv.zip',\n",
       " '202003-citibike-tripdata.csv.zip',\n",
       " '202004-citibike-tripdata.csv.zip',\n",
       " '202005-citibike-tripdata.csv.zip',\n",
       " '202006-citibike-tripdata.csv.zip',\n",
       " '202007-citibike-tripdata.csv.zip',\n",
       " '202008-citibike-tripdata.csv.zip',\n",
       " '202009-citibike-tripdata.csv.zip',\n",
       " '202010-citibike-tripdata.csv.zip',\n",
       " '202011-citibike-tripdata.csv.zip',\n",
       " '202012-citibike-tripdata.csv.zip',\n",
       " '202101-citibike-tripdata.csv.zip']"
      ]
     },
     "execution_count": 34,
     "metadata": {},
     "output_type": "execute_result"
    }
   ],
   "source": [
    "nyc_zips[-20:]"
   ]
  },
  {
   "cell_type": "code",
   "execution_count": null,
   "id": "registered-devil",
   "metadata": {},
   "outputs": [],
   "source": []
  }
 ],
 "metadata": {
  "kernelspec": {
   "display_name": "Python 3",
   "language": "python",
   "name": "python3"
  },
  "language_info": {
   "codemirror_mode": {
    "name": "ipython",
    "version": 3
   },
   "file_extension": ".py",
   "mimetype": "text/x-python",
   "name": "python",
   "nbconvert_exporter": "python",
   "pygments_lexer": "ipython3",
   "version": "3.7.9"
  }
 },
 "nbformat": 4,
 "nbformat_minor": 5
}

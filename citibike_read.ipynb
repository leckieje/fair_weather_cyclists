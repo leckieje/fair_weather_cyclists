{
 "cells": [
  {
   "cell_type": "code",
   "execution_count": 63,
   "id": "adverse-trail",
   "metadata": {},
   "outputs": [],
   "source": [
    "import pandas as pd\n",
    "import numpy as np\n",
    "\n",
    "# Web scraping libraries\n",
    "import requests\n",
    "import urllib.request\n",
    "from bs4 import BeautifulSoup\n",
    "\n",
    "# Downloading, moving and unzipping files\n",
    "import webbrowser # view web-based documents\n",
    "from time import sleep\n",
    "import shutil # file operations (moving, copying, etc)\n",
    "import os # operating system interface\n",
    "from zipfile import ZipFile # zipfile operations, ZipFile=class for reading and writing ZIP files"
   ]
  },
  {
   "cell_type": "markdown",
   "id": "vocational-contractor",
   "metadata": {},
   "source": [
    "Connect to url:"
   ]
  },
  {
   "cell_type": "code",
   "execution_count": 10,
   "id": "younger-vocabulary",
   "metadata": {},
   "outputs": [
    {
     "data": {
      "text/plain": [
       "<Response [200]>"
      ]
     },
     "execution_count": 10,
     "metadata": {},
     "output_type": "execute_result"
    }
   ],
   "source": [
    "url = 'https://s3.amazonaws.com/tripdata/'\n",
    "response = requests.get(url)\n",
    "response"
   ]
  },
  {
   "cell_type": "markdown",
   "id": "enabling-airline",
   "metadata": {},
   "source": [
    "Create soup variable, and parse for appropriate tag ('Key'):"
   ]
  },
  {
   "cell_type": "code",
   "execution_count": 18,
   "id": "manufactured-fifteen",
   "metadata": {},
   "outputs": [],
   "source": [
    "soup = BeautifulSoup(response.text, 'xml')"
   ]
  },
  {
   "cell_type": "code",
   "execution_count": 22,
   "id": "alive-contrary",
   "metadata": {},
   "outputs": [
    {
     "data": {
      "text/plain": [
       "[<Key>JC-202010-citibike-tripdata.csv.zip</Key>,\n",
       " <Key>JC-202011-citibike-tripdata.csv.zip</Key>,\n",
       " <Key>JC-202012-citibike-tripdata.csv.zip</Key>,\n",
       " <Key>JC-202101-citibike-tripdata.csv.zip</Key>,\n",
       " <Key>index.html</Key>]"
      ]
     },
     "execution_count": 22,
     "metadata": {},
     "output_type": "execute_result"
    }
   ],
   "source": [
    "data_files = soup.find_all('Key')\n",
    "data_files[-5:]"
   ]
  },
  {
   "cell_type": "markdown",
   "id": "professional-faculty",
   "metadata": {},
   "source": [
    "Storre zip files as strings in a list. Only saving files for NYC. Data set also incldudes files for Jersey City denoted with a leading 'JC' in the file name. "
   ]
  },
  {
   "cell_type": "code",
   "execution_count": 32,
   "id": "tamil-sterling",
   "metadata": {},
   "outputs": [
    {
     "data": {
      "text/plain": [
       "93"
      ]
     },
     "execution_count": 32,
     "metadata": {},
     "output_type": "execute_result"
    }
   ],
   "source": [
    "nyc_zips = []\n",
    "\n",
    "for idx in range(len(data_files)-1):\n",
    "    file = data_files[idx].get_text()\n",
    "    if not file.startswith('JC'):\n",
    "        nyc_zips.append(file)\n",
    "        \n",
    "len(nyc_zips)"
   ]
  },
  {
   "cell_type": "markdown",
   "id": "liable-percentage",
   "metadata": {},
   "source": [
    "Download and relocate files to project directory"
   ]
  },
  {
   "cell_type": "code",
   "execution_count": 33,
   "id": "introductory-frost",
   "metadata": {},
   "outputs": [],
   "source": [
    "source = '/Users/jonleckie/Downloads'\n",
    "destination = '/Users/jonleckie/Desktop/DSI_all/capstones/capstone_one'\n",
    "\n",
    "# Download zip files \n",
    "for file in nyc_zips:\n",
    "    webbrowser.open_new(url + file)\n",
    "    sleep(7)"
   ]
  },
  {
   "cell_type": "code",
   "execution_count": 55,
   "id": "sixth-blackberry",
   "metadata": {},
   "outputs": [
    {
     "name": "stdout",
     "output_type": "stream",
     "text": [
      "<class 'str'>\n",
      "<class 'str'>\n",
      "<class 'str'>\n",
      "<class 'str'>\n",
      "<class 'str'>\n",
      "<class 'str'>\n",
      "<class 'str'>\n",
      "<class 'str'>\n",
      "<class 'str'>\n",
      "<class 'str'>\n"
     ]
    }
   ],
   "source": [
    "for z in nyc_zips[-10:]:\n",
    "    print(type(z))"
   ]
  },
  {
   "cell_type": "code",
   "execution_count": 35,
   "id": "prepared-harvest",
   "metadata": {},
   "outputs": [],
   "source": [
    "import csv"
   ]
  },
  {
   "cell_type": "code",
   "execution_count": 85,
   "id": "patient-mayor",
   "metadata": {},
   "outputs": [
    {
     "data": {
      "text/plain": [
       "[['\\ufeff202101-citibike-tripdata.csv.zip'],\n",
       " ['201812-citibike-tripdata.csv.zip'],\n",
       " ['201810-citibike-tripdata.csv.zip'],\n",
       " ['201808-citibike-tripdata.csv.zip'],\n",
       " ['201807-citibike-tripdata.csv.zip'],\n",
       " ['201806-citibike-tripdata.csv.zip'],\n",
       " ['201805-citibike-tripdata.csv.zip'],\n",
       " ['201802-citibike-tripdata.csv.zip'],\n",
       " ['201712-citibike-tripdata.csv.zip'],\n",
       " ['201711-citibike-tripdata.csv.zip'],\n",
       " ['201710-citibike-tripdata.csv.zip'],\n",
       " ['201708-citibike-tripdata.csv.zip'],\n",
       " ['201706-citibike-tripdata.csv.zip'],\n",
       " ['201705-citibike-tripdata.csv.zip'],\n",
       " ['201704-citibike-tripdata.csv.zip'],\n",
       " ['201703-citibike-tripdata.csv.zip'],\n",
       " ['201702-citibike-tripdata.csv.zip'],\n",
       " ['201701-citibike-tripdata.csv.zip'],\n",
       " ['201612-citibike-tripdata.zip'],\n",
       " ['201611-citibike-tripdata.zip'],\n",
       " ['201610-citibike-tripdata.zip'],\n",
       " ['201608-citibike-tripdata.zip'],\n",
       " ['201606-citibike-tripdata.zip'],\n",
       " ['201605-citibike-tripdata.zip'],\n",
       " ['201604-citibike-tripdata.zip'],\n",
       " ['201602-citibike-tripdata.zip'],\n",
       " ['201512-citibike-tripdata.zip'],\n",
       " ['201511-citibike-tripdata.zip'],\n",
       " ['201509-citibike-tripdata.zip'],\n",
       " ['201508-citibike-tripdata.zip'],\n",
       " ['201506-citibike-tripdata.zip'],\n",
       " ['201505-citibike-tripdata.zip'],\n",
       " ['201503-citibike-tripdata.zip'],\n",
       " ['201502-citibike-tripdata.zip'],\n",
       " ['201501-citibike-tripdata.zip'],\n",
       " ['201412-citibike-tripdata.zip'],\n",
       " ['201410-citibike-tripdata.zip'],\n",
       " ['201409-citibike-tripdata.zip'],\n",
       " ['201408-citibike-tripdata.zip'],\n",
       " ['201407-citibike-tripdata.zip'],\n",
       " ['201406-citibike-tripdata.zip'],\n",
       " ['201405-citibike-tripdata.zip'],\n",
       " ['201404-citibike-tripdata.zip'],\n",
       " ['201403-citibike-tripdata.zip'],\n",
       " ['201402-citibike-tripdata.zip'],\n",
       " ['201401-citibike-tripdata.zip'],\n",
       " ['201312-citibike-tripdata.zip'],\n",
       " ['201311-citibike-tripdata.zip'],\n",
       " ['201310-citibike-tripdata.zip'],\n",
       " ['201309-citibike-tripdata.zip'],\n",
       " ['201308-citibike-tripdata.zip'],\n",
       " ['201307-citibike-tripdata.zip'],\n",
       " ['201307-201402-citibike-tripdata.zip'],\n",
       " ['201306-citibike-tripdata.zip']]"
      ]
     },
     "execution_count": 85,
     "metadata": {},
     "output_type": "execute_result"
    }
   ],
   "source": [
    "# downloads = np.loadtxt('/Users/jonleckie/Documents/succesful_downloads.csv')\n",
    "\n",
    "with open('/Users/jonleckie/Documents/succesful_downloads.csv', newline='') as f:\n",
    "    reader = csv.reader(f)\n",
    "    downloads = list(reader)\n",
    "\n",
    "# for idx, elem in enumerate(downloads):\n",
    "# #     print(type(elem))\n",
    "    \n",
    "downloads"
   ]
  },
  {
   "cell_type": "code",
   "execution_count": 56,
   "id": "appointed-innocent",
   "metadata": {},
   "outputs": [],
   "source": [
    "# download_lst = list(downloads, header=False)  \n",
    "\n",
    "# for elem in download_lst[-10:]:\n",
    "#     print(type(elem))"
   ]
  },
  {
   "cell_type": "code",
   "execution_count": 72,
   "id": "complimentary-shoulder",
   "metadata": {},
   "outputs": [
    {
     "data": {
      "text/plain": [
       "93"
      ]
     },
     "execution_count": 72,
     "metadata": {},
     "output_type": "execute_result"
    }
   ],
   "source": [
    "skiped_downloads = []\n",
    "\n",
    "for z in nyc_zips:\n",
    "    if z not in downloads:\n",
    "        skiped_downloads.append(z)\n",
    "        \n",
    "len(skiped_downloads)"
   ]
  },
  {
   "cell_type": "code",
   "execution_count": 60,
   "id": "comparable-currency",
   "metadata": {},
   "outputs": [
    {
     "data": {
      "text/plain": [
       "pandas.core.frame.DataFrame"
      ]
     },
     "execution_count": 60,
     "metadata": {},
     "output_type": "execute_result"
    }
   ],
   "source": [
    "type(downloads)"
   ]
  },
  {
   "cell_type": "code",
   "execution_count": 61,
   "id": "improved-warren",
   "metadata": {},
   "outputs": [
    {
     "data": {
      "text/html": [
       "<div>\n",
       "<style scoped>\n",
       "    .dataframe tbody tr th:only-of-type {\n",
       "        vertical-align: middle;\n",
       "    }\n",
       "\n",
       "    .dataframe tbody tr th {\n",
       "        vertical-align: top;\n",
       "    }\n",
       "\n",
       "    .dataframe thead th {\n",
       "        text-align: right;\n",
       "    }\n",
       "</style>\n",
       "<table border=\"1\" class=\"dataframe\">\n",
       "  <thead>\n",
       "    <tr style=\"text-align: right;\">\n",
       "      <th></th>\n",
       "      <th>202101-citibike-tripdata.csv.zip</th>\n",
       "    </tr>\n",
       "  </thead>\n",
       "  <tbody>\n",
       "    <tr>\n",
       "      <th>0</th>\n",
       "      <td>201812-citibike-tripdata.csv.zip</td>\n",
       "    </tr>\n",
       "    <tr>\n",
       "      <th>1</th>\n",
       "      <td>201810-citibike-tripdata.csv.zip</td>\n",
       "    </tr>\n",
       "    <tr>\n",
       "      <th>2</th>\n",
       "      <td>201808-citibike-tripdata.csv.zip</td>\n",
       "    </tr>\n",
       "    <tr>\n",
       "      <th>3</th>\n",
       "      <td>201807-citibike-tripdata.csv.zip</td>\n",
       "    </tr>\n",
       "    <tr>\n",
       "      <th>4</th>\n",
       "      <td>201806-citibike-tripdata.csv.zip</td>\n",
       "    </tr>\n",
       "  </tbody>\n",
       "</table>\n",
       "</div>"
      ],
      "text/plain": [
       "   202101-citibike-tripdata.csv.zip\n",
       "0  201812-citibike-tripdata.csv.zip\n",
       "1  201810-citibike-tripdata.csv.zip\n",
       "2  201808-citibike-tripdata.csv.zip\n",
       "3  201807-citibike-tripdata.csv.zip\n",
       "4  201806-citibike-tripdata.csv.zip"
      ]
     },
     "execution_count": 61,
     "metadata": {},
     "output_type": "execute_result"
    }
   ],
   "source": [
    "downloads"
   ]
  },
  {
   "cell_type": "markdown",
   "id": "future-cleaners",
   "metadata": {},
   "source": [
    "Guide for downloading database: https://medium.com/@fausto.manon/building-a-citibike-database-with-python-9849a59fb90c"
   ]
  },
  {
   "cell_type": "code",
   "execution_count": null,
   "id": "indirect-stream",
   "metadata": {},
   "outputs": [],
   "source": []
  }
 ],
 "metadata": {
  "kernelspec": {
   "display_name": "Python 3",
   "language": "python",
   "name": "python3"
  },
  "language_info": {
   "codemirror_mode": {
    "name": "ipython",
    "version": 3
   },
   "file_extension": ".py",
   "mimetype": "text/x-python",
   "name": "python",
   "nbconvert_exporter": "python",
   "pygments_lexer": "ipython3",
   "version": "3.7.9"
  }
 },
 "nbformat": 4,
 "nbformat_minor": 5
}

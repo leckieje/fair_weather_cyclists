{
 "cells": [
  {
   "cell_type": "code",
   "execution_count": 15,
   "id": "sound-palestinian",
   "metadata": {},
   "outputs": [],
   "source": [
    "import pandas as pd\n",
    "import matplotlib.pyplot as plt\n",
    "import glob\n",
    "import os\n",
    "from zipfile import ZipFile"
   ]
  },
  {
   "cell_type": "markdown",
   "id": "selective-breeding",
   "metadata": {},
   "source": [
    "Open .zip files from Citibike and combine into single .csv"
   ]
  },
  {
   "cell_type": "code",
   "execution_count": 16,
   "id": "chronic-nation",
   "metadata": {},
   "outputs": [],
   "source": [
    "source = '/Users/jonleckie/Desktop/DSI_all/capstones/capstone_one/data/'\n",
    "\n",
    "for item in os.listdir(source):\n",
    "    if item.endswith('.zip'):\n",
    "        file_name = source + item\n",
    "        zip_ref = ZipFile(file_name)\n",
    "        zip_ref.extractall(source)\n",
    "        os.remove(file_name)\n",
    "        zip_ref.close()"
   ]
  },
  {
   "cell_type": "markdown",
   "id": "sporting-factor",
   "metadata": {},
   "source": [
    "Create lists of monthly .csv files to combine "
   ]
  },
  {
   "cell_type": "code",
   "execution_count": 17,
   "id": "foster-money",
   "metadata": {},
   "outputs": [],
   "source": [
    "os.chdir(source)"
   ]
  },
  {
   "cell_type": "code",
   "execution_count": 21,
   "id": "solid-andrew",
   "metadata": {},
   "outputs": [
    {
     "data": {
      "text/plain": [
       "12"
      ]
     },
     "execution_count": 21,
     "metadata": {},
     "output_type": "execute_result"
    }
   ],
   "source": [
    "extension = 'csv'\n",
    "all_files = [i for i in glob.glob('*.{}'.format(extension))]\n",
    "\n",
    "len(all_files)"
   ]
  },
  {
   "cell_type": "code",
   "execution_count": 22,
   "id": "global-calcium",
   "metadata": {},
   "outputs": [],
   "source": [
    "bike_file = pd.concat([pd.read_csv(f) for f in all_files])\n",
    "bike_file.to_csv('bike_trips_20.csv', index=False, encoding='utf-8-sig')"
   ]
  },
  {
   "cell_type": "markdown",
   "id": "under-dependence",
   "metadata": {},
   "source": [
    "Load .csv as Pandas DataFrame"
   ]
  },
  {
   "cell_type": "code",
   "execution_count": 24,
   "id": "handy-consumer",
   "metadata": {},
   "outputs": [],
   "source": [
    "bike_trips = pd.read_csv('/Users/jonleckie/Desktop/DSI_all/capstones/capstone_one/data/bike_trips_20.csv')"
   ]
  },
  {
   "cell_type": "code",
   "execution_count": null,
   "id": "similar-tablet",
   "metadata": {},
   "outputs": [],
   "source": [
    "weather_df = pd.read_csv('/Users/jonleckie/Desktop/DSI_all/capstones/capstone_one/2019_2020_daily_weather.csv')"
   ]
  },
  {
   "cell_type": "code",
   "execution_count": null,
   "id": "still-principle",
   "metadata": {},
   "outputs": [],
   "source": []
  }
 ],
 "metadata": {
  "kernelspec": {
   "display_name": "Python 3",
   "language": "python",
   "name": "python3"
  },
  "language_info": {
   "codemirror_mode": {
    "name": "ipython",
    "version": 3
   },
   "file_extension": ".py",
   "mimetype": "text/x-python",
   "name": "python",
   "nbconvert_exporter": "python",
   "pygments_lexer": "ipython3",
   "version": "3.7.9"
  }
 },
 "nbformat": 4,
 "nbformat_minor": 5
}
